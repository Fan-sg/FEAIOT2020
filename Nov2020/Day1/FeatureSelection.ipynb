{
 "cells": [
  {
   "cell_type": "markdown",
   "metadata": {},
   "source": [
    "\n",
    "## Feature Selection\n",
    "\n",
    "In this workshop, we have two datasets: Students2.csv and bank.csv. \n",
    "\n",
    "We will implement the following feature selection approaches.\n",
    "1. F-test\n",
    "2. SelectTransform\n",
    "3. RFE\n",
    "\n"
   ]
  },
  {
   "cell_type": "markdown",
   "metadata": {},
   "source": [
    "\n",
    "Apply Feature Selection with F-Test on Linear Regression\n",
    "Compare the result with selected features\n",
    "\n",
    "Data set: Students2.csv"
   ]
  },
  {
   "cell_type": "markdown",
   "metadata": {},
   "source": [
    "## Import data"
   ]
  },
  {
   "cell_type": "code",
   "execution_count": 1,
   "metadata": {},
   "outputs": [],
   "source": [
    "# Import libraries\n",
    "import pandas as pd"
   ]
  },
  {
   "cell_type": "code",
   "execution_count": 2,
   "metadata": {},
   "outputs": [],
   "source": [
    "# Read the file\n",
    "f = pd.read_csv('Students2.csv')"
   ]
  },
  {
   "cell_type": "code",
   "execution_count": 3,
   "metadata": {},
   "outputs": [],
   "source": [
    "# Split the columns into Dependent (Y) and independent (X) features\n",
    "x = f.iloc[:,:-1]\n",
    "y = f.iloc[:, -1]"
   ]
  },
  {
   "cell_type": "code",
   "execution_count": 4,
   "metadata": {},
   "outputs": [],
   "source": [
    "# Perform Linear Regression using original dataset\n",
    "from sklearn.linear_model import LinearRegression\n",
    "\n",
    "lr = LinearRegression()"
   ]
  },
  {
   "cell_type": "code",
   "execution_count": 5,
   "metadata": {},
   "outputs": [],
   "source": [
    "# Split the data\n",
    "from sklearn.model_selection import train_test_split\n",
    "X_train, X_test, Y_train, Y_test = train_test_split(x, y, test_size = 0.4, random_state = 1234)\n",
    "\n",
    "lr.fit(X_train, Y_train)\n",
    "\n",
    "y_predict = lr.predict(X_test)"
   ]
  },
  {
   "cell_type": "code",
   "execution_count": 6,
   "metadata": {},
   "outputs": [
    {
     "data": {
      "text/plain": [
       "6.982206715357434"
      ]
     },
     "execution_count": 6,
     "metadata": {},
     "output_type": "execute_result"
    }
   ],
   "source": [
    "# Calculate the RMSE error for the regression\n",
    "from sklearn.metrics import mean_squared_error\n",
    "import math\n",
    "\n",
    "rmse = math.sqrt(mean_squared_error(Y_test, y_predict))\n",
    "rmse"
   ]
  },
  {
   "cell_type": "markdown",
   "metadata": {},
   "source": [
    "### F-test"
   ]
  },
  {
   "cell_type": "code",
   "execution_count": 7,
   "metadata": {},
   "outputs": [],
   "source": [
    "# import and perform the f_regression to get the F-Score and P-Values\n",
    "from sklearn.feature_selection import f_regression as fr\n",
    "result = fr(x,y)"
   ]
  },
  {
   "cell_type": "code",
   "execution_count": 8,
   "metadata": {},
   "outputs": [],
   "source": [
    "# Split the result tuple into F_Score and P_Values\n",
    "f_score = result[0]\n",
    "p_values = result[1]"
   ]
  },
  {
   "cell_type": "code",
   "execution_count": 9,
   "metadata": {},
   "outputs": [
    {
     "name": "stdout",
     "output_type": "stream",
     "text": [
      "    Features      F-Score     P-Values\n",
      "    -----------  ---------    ---------\n",
      "     Hours          141.91      0.000000\n",
      "     sHours           4.57      0.041403\n",
      "     hoursplayed      0.00      0.969907\n",
      "     income           0.16      0.692200\n",
      "     distance         0.00      0.955528\n",
      "     calories         0.40      0.530086\n"
     ]
    }
   ],
   "source": [
    "# Print the table of Features, F-Score and P-values\n",
    "columns = list(x.columns)\n",
    "\n",
    "print (\"    Features     \", \"F-Score    \", \"P-Values\")\n",
    "print (\"    -----------  ---------    ---------\")\n",
    "\n",
    "for i in range(0, len(columns)):\n",
    "    f1 = \"%4.2f\" % f_score[i]\n",
    "    p1 = \"%2.6f\" % p_values[i]\n",
    "    print(\"    \", columns[i].ljust(12), f1.rjust(8),\"    \", p1.rjust(8))"
   ]
  },
  {
   "cell_type": "code",
   "execution_count": 10,
   "metadata": {},
   "outputs": [],
   "source": [
    "# Perform the Linear Regression with reduced features\n",
    "X_train_n = X_train[['Hours', 'sHours']]\n",
    "X_test_n = X_test[['Hours', 'sHours']]\n",
    "\n",
    "lr1 = LinearRegression()\n",
    "lr1.fit(X_train_n, Y_train)\n",
    "\n",
    "y_predict_n = lr1.predict(X_test_n)"
   ]
  },
  {
   "cell_type": "code",
   "execution_count": 11,
   "metadata": {},
   "outputs": [],
   "source": [
    "# Calculate the RMSE with reduced features\n",
    "rmse_n = math.sqrt(mean_squared_error(Y_test, y_predict_n))"
   ]
  },
  {
   "cell_type": "code",
   "execution_count": 12,
   "metadata": {},
   "outputs": [
    {
     "data": {
      "text/plain": [
       "5.09721728108113"
      ]
     },
     "execution_count": 12,
     "metadata": {},
     "output_type": "execute_result"
    }
   ],
   "source": [
    "rmse_n"
   ]
  },
  {
   "cell_type": "markdown",
   "metadata": {},
   "source": [
    "### Select Transforms"
   ]
  },
  {
   "cell_type": "code",
   "execution_count": 13,
   "metadata": {},
   "outputs": [],
   "source": [
    "# Import pandas, read the file and split into X and Y\n",
    "import pandas as pd\n",
    "f = pd.read_csv('Students2.csv')\n",
    "X = f.iloc[:, :-1]\n",
    "Y = f.iloc[:,  -1]"
   ]
  },
  {
   "cell_type": "code",
   "execution_count": 14,
   "metadata": {},
   "outputs": [],
   "source": [
    "# Import various select transforms along with the f_regression mode\n",
    "from sklearn.feature_selection import SelectKBest,             \\\n",
    "                                      SelectPercentile,        \\\n",
    "                                      GenericUnivariateSelect, \\\n",
    "                                      f_regression"
   ]
  },
  {
   "cell_type": "code",
   "execution_count": 15,
   "metadata": {},
   "outputs": [],
   "source": [
    "# Implement and print SelectKBest\n",
    "selectorK = SelectKBest(score_func=f_regression, k=3)\n",
    "x_k = selectorK.fit_transform(X, Y)"
   ]
  },
  {
   "cell_type": "code",
   "execution_count": 16,
   "metadata": {},
   "outputs": [],
   "source": [
    "# Get f_score and p_values for the selected features\n",
    "f_score = selectorK.scores_\n",
    "p_values = selectorK.pvalues_"
   ]
  },
  {
   "cell_type": "code",
   "execution_count": 17,
   "metadata": {},
   "outputs": [
    {
     "name": "stdout",
     "output_type": "stream",
     "text": [
      "    Features      F-Score     P-Values\n",
      "    -----------  ---------    ---------\n",
      "     Hours          141.91      0.000000\n",
      "     sHours           4.57      0.041403\n",
      "     hoursplayed      0.00      0.969907\n",
      "     income           0.16      0.692200\n",
      "     distance         0.00      0.955528\n",
      "     calories         0.40      0.530086\n",
      "['Hours', 'sHours', 'calories']\n"
     ]
    }
   ],
   "source": [
    "# Print the f_score and p_values\n",
    "# Print the table of Features, F-Score and P-values\n",
    "columns = list(X.columns)\n",
    "\n",
    "print (\"    Features     \", \"F-Score    \", \"P-Values\")\n",
    "print (\"    -----------  ---------    ---------\")\n",
    "\n",
    "for i in range(0, len(columns)):\n",
    "    f1 = \"%4.2f\" % f_score[i]\n",
    "    p1 = \"%2.6f\" % p_values[i]\n",
    "    print(\"    \", columns[i].ljust(12), f1.rjust(8),\"    \", p1.rjust(8))\n",
    "\n",
    "cols = selectorK.get_support(indices=True)\n",
    "selectedCols = X.columns[cols].to_list()\n",
    "\n",
    "print(selectedCols)"
   ]
  },
  {
   "cell_type": "code",
   "execution_count": 18,
   "metadata": {},
   "outputs": [],
   "source": [
    "# Implement SelectPercentile\n",
    "selectorP = SelectPercentile(score_func=f_regression, percentile=50)\n",
    "x_p = selectorP.fit_transform(X, Y)"
   ]
  },
  {
   "cell_type": "code",
   "execution_count": 19,
   "metadata": {},
   "outputs": [],
   "source": [
    "# Implement GenericUnivariateSelect with k_best\n",
    "selectorG1 = GenericUnivariateSelect(score_func=f_regression,\n",
    "                                     mode='k_best',\n",
    "                                     param=3)\n",
    "x_g1 = selectorG1.fit_transform(X,Y)"
   ]
  },
  {
   "cell_type": "code",
   "execution_count": 20,
   "metadata": {},
   "outputs": [],
   "source": [
    "# Implement GenericUnivariateSelect with percentile\n",
    "selectorG2 = GenericUnivariateSelect(score_func=f_regression,\n",
    "                                     mode='percentile',\n",
    "                                     param=50)\n",
    "x_g2 = selectorG2.fit_transform(X,Y)"
   ]
  },
  {
   "cell_type": "markdown",
   "metadata": {},
   "source": [
    "## Recursive Feature Elimination"
   ]
  },
  {
   "cell_type": "code",
   "execution_count": 21,
   "metadata": {},
   "outputs": [],
   "source": [
    "# -----------------------------------------------------------------\n",
    "# Implement Recursive Feature Elimination.\n",
    "# Predict product purchase for the Bank Telemarketing dataset\n",
    "# -----------------------------------------------------------------\n",
    "\n",
    "# Import libraries\n",
    "import pandas as pd"
   ]
  },
  {
   "cell_type": "code",
   "execution_count": 22,
   "metadata": {},
   "outputs": [
    {
     "data": {
      "text/plain": [
       "(41188, 20)"
      ]
     },
     "execution_count": 22,
     "metadata": {},
     "output_type": "execute_result"
    }
   ],
   "source": [
    "# Read the file\n",
    "f = pd.read_csv('bank.csv')\n",
    "f = f.drop(\"duration\", axis = 1) # As we create model for market team, this feature is not known\n",
    "f.shape"
   ]
  },
  {
   "cell_type": "code",
   "execution_count": 26,
   "metadata": {},
   "outputs": [],
   "source": [
    "# Split the columns into Dependent (Y) and independent (X) features\n",
    "x = f.iloc[:,:-1]\n",
    "y = f.iloc[:, -1]"
   ]
  },
  {
   "cell_type": "code",
   "execution_count": 27,
   "metadata": {},
   "outputs": [],
   "source": [
    "# Create dummy variables\n",
    "x = pd.get_dummies(x, drop_first=True)\n",
    "y = pd.get_dummies(y, drop_first=True)from sklearn.feature_selection import RFE"
   ]
  },
  {
   "cell_type": "code",
   "execution_count": 28,
   "metadata": {},
   "outputs": [],
   "source": [
    "# Split the dataset into train and test\n",
    "from sklearn.model_selection import train_test_split\n",
    "X_train, X_test, Y_train, Y_test = train_test_split(x, y, test_size = 0.3, random_state = 1234, stratify=y)"
   ]
  },
  {
   "cell_type": "code",
   "execution_count": 29,
   "metadata": {},
   "outputs": [
    {
     "name": "stderr",
     "output_type": "stream",
     "text": [
      "C:\\Users\\isslf\\Anaconda3\\lib\\site-packages\\ipykernel_launcher.py:6: DataConversionWarning: A column-vector y was passed when a 1d array was expected. Please change the shape of y to (n_samples,), for example using ravel().\n",
      "  \n"
     ]
    }
   ],
   "source": [
    "# Import Random Forest Classifier\n",
    "from sklearn.ensemble import RandomForestClassifier\n",
    "\n",
    "# Default Random Forest Object\n",
    "rfc1 = RandomForestClassifier(random_state=1234)\n",
    "rfc1.fit(X_train, Y_train)\n",
    "Y_predict1 = rfc1.predict(X_test)"
   ]
  },
  {
   "cell_type": "code",
   "execution_count": 30,
   "metadata": {},
   "outputs": [],
   "source": [
    "# Score and Evaluate the model \n",
    "from sklearn.metrics import confusion_matrix\n",
    "cm1 = confusion_matrix(Y_test, Y_predict1)\n",
    "score1 = rfc1.score(X_test, Y_test)"
   ]
  },
  {
   "cell_type": "code",
   "execution_count": 35,
   "metadata": {
    "scrolled": true
   },
   "outputs": [
    {
     "name": "stderr",
     "output_type": "stream",
     "text": [
      "C:\\Users\\isslf\\Anaconda3\\lib\\site-packages\\sklearn\\utils\\validation.py:760: DataConversionWarning: A column-vector y was passed when a 1d array was expected. Please change the shape of y to (n_samples, ), for example using ravel().\n",
      "  y = column_or_1d(y, warn=True)\n"
     ]
    },
    {
     "data": {
      "text/plain": [
       "RFE(estimator=RandomForestClassifier(bootstrap=True, ccp_alpha=0.0,\n",
       "                                     class_weight=None, criterion='gini',\n",
       "                                     max_depth=None, max_features='auto',\n",
       "                                     max_leaf_nodes=None, max_samples=None,\n",
       "                                     min_impurity_decrease=0.0,\n",
       "                                     min_impurity_split=None,\n",
       "                                     min_samples_leaf=1, min_samples_split=2,\n",
       "                                     min_weight_fraction_leaf=0.0,\n",
       "                                     n_estimators=100, n_jobs=None,\n",
       "                                     oob_score=False, random_state=1234,\n",
       "                                     verbose=0, warm_start=False),\n",
       "    n_features_to_select=30, step=1, verbose=0)"
      ]
     },
     "execution_count": 35,
     "metadata": {},
     "output_type": "execute_result"
    }
   ],
   "source": [
    "# Apply Recursive Feature Elimination\n",
    "from sklearn.feature_selection import RFE\n",
    "# Get an estimator object\n",
    "rfc2 = RandomForestClassifier(random_state=1234)\n",
    "rfe = RFE(estimator = rfc2, n_features_to_select = 30, step = 1)\n",
    "\n",
    "rfe.fit(x,y)"
   ]
  },
  {
   "cell_type": "code",
   "execution_count": 32,
   "metadata": {},
   "outputs": [],
   "source": [
    "# Create new Train and Test datasets\n",
    "X_train_rfe = rfe.transform(X_train)\n",
    "X_test_rfe = rfe.transform(X_test)"
   ]
  },
  {
   "cell_type": "code",
   "execution_count": 33,
   "metadata": {},
   "outputs": [
    {
     "name": "stderr",
     "output_type": "stream",
     "text": [
      "C:\\Users\\isslf\\Anaconda3\\lib\\site-packages\\ipykernel_launcher.py:2: DataConversionWarning: A column-vector y was passed when a 1d array was expected. Please change the shape of y to (n_samples,), for example using ravel().\n",
      "  \n"
     ]
    },
    {
     "data": {
      "text/plain": [
       "RandomForestClassifier(bootstrap=True, ccp_alpha=0.0, class_weight=None,\n",
       "                       criterion='gini', max_depth=None, max_features='auto',\n",
       "                       max_leaf_nodes=None, max_samples=None,\n",
       "                       min_impurity_decrease=0.0, min_impurity_split=None,\n",
       "                       min_samples_leaf=1, min_samples_split=2,\n",
       "                       min_weight_fraction_leaf=0.0, n_estimators=100,\n",
       "                       n_jobs=None, oob_score=False, random_state=1234,\n",
       "                       verbose=0, warm_start=False)"
      ]
     },
     "execution_count": 33,
     "metadata": {},
     "output_type": "execute_result"
    }
   ],
   "source": [
    "# Fit the Random Forest classifier to the new train and test with 80 features\n",
    "rfc2.fit(X_train_rfe, Y_train)"
   ]
  },
  {
   "cell_type": "code",
   "execution_count": 34,
   "metadata": {},
   "outputs": [],
   "source": [
    "# Test the model with new Test dataset\n",
    "Y_predict = rfc2.predict(X_test_rfe)"
   ]
  },
  {
   "cell_type": "code",
   "execution_count": 32,
   "metadata": {},
   "outputs": [
    {
     "data": {
      "text/plain": [
       "0.8943109168892126"
      ]
     },
     "execution_count": 32,
     "metadata": {},
     "output_type": "execute_result"
    }
   ],
   "source": [
    "# Score and Evaluate the new model \n",
    "from sklearn.metrics import confusion_matrix\n",
    "cm_rfe = confusion_matrix(Y_test, Y_predict)\n",
    "score_rfe = rfc2.score(X_test_rfe, Y_test)\n",
    "score_rfe"
   ]
  },
  {
   "cell_type": "code",
   "execution_count": 33,
   "metadata": {},
   "outputs": [],
   "source": [
    "# Get column names\n",
    "columns = list(x.columns)"
   ]
  },
  {
   "cell_type": "code",
   "execution_count": 34,
   "metadata": {},
   "outputs": [
    {
     "data": {
      "text/plain": [
       "array([ 1,  1,  1,  1,  1,  1,  1,  1,  1,  1,  5, 11,  1,  1,  3,  1,  6,\n",
       "        1,  8, 16,  1,  1, 20,  4,  1,  1, 22,  1,  1,  2,  1, 23,  7,  1,\n",
       "       13,  1,  1, 17, 21, 15, 14, 10, 12, 19,  9, 18,  1,  1,  1,  1,  1,\n",
       "        1])"
      ]
     },
     "execution_count": 34,
     "metadata": {},
     "output_type": "execute_result"
    }
   ],
   "source": [
    "# Get the ranking of the features. Ranking 1 for selected features\n",
    "ranking = rfe.ranking_\n",
    "ranking"
   ]
  },
  {
   "cell_type": "code",
   "execution_count": 35,
   "metadata": {},
   "outputs": [],
   "source": [
    "# Get the feature importance scores\n",
    "feature_importance = rfc1.feature_importances_"
   ]
  },
  {
   "cell_type": "code",
   "execution_count": 36,
   "metadata": {},
   "outputs": [],
   "source": [
    "# Create the dataframe of the Features selected, Ranking and their importance\n",
    "rfe_selected = pd.DataFrame()\n",
    "\n"
   ]
  },
  {
   "cell_type": "code",
   "execution_count": 37,
   "metadata": {},
   "outputs": [],
   "source": [
    "rfe_selected = pd.concat([pd.DataFrame(columns), \n",
    "                          pd.DataFrame(ranking),\n",
    "                          pd.DataFrame(feature_importance)], axis=1)\n"
   ]
  },
  {
   "cell_type": "code",
   "execution_count": 38,
   "metadata": {},
   "outputs": [
    {
     "data": {
      "text/html": [
       "<div>\n",
       "<style scoped>\n",
       "    .dataframe tbody tr th:only-of-type {\n",
       "        vertical-align: middle;\n",
       "    }\n",
       "\n",
       "    .dataframe tbody tr th {\n",
       "        vertical-align: top;\n",
       "    }\n",
       "\n",
       "    .dataframe thead th {\n",
       "        text-align: right;\n",
       "    }\n",
       "</style>\n",
       "<table border=\"1\" class=\"dataframe\">\n",
       "  <thead>\n",
       "    <tr style=\"text-align: right;\">\n",
       "      <th></th>\n",
       "      <th>0</th>\n",
       "      <th>0</th>\n",
       "      <th>0</th>\n",
       "    </tr>\n",
       "  </thead>\n",
       "  <tbody>\n",
       "    <tr>\n",
       "      <th>0</th>\n",
       "      <td>age</td>\n",
       "      <td>1</td>\n",
       "      <td>0.170810</td>\n",
       "    </tr>\n",
       "    <tr>\n",
       "      <th>1</th>\n",
       "      <td>campaign</td>\n",
       "      <td>1</td>\n",
       "      <td>0.083967</td>\n",
       "    </tr>\n",
       "    <tr>\n",
       "      <th>2</th>\n",
       "      <td>pdays</td>\n",
       "      <td>1</td>\n",
       "      <td>0.030959</td>\n",
       "    </tr>\n",
       "    <tr>\n",
       "      <th>3</th>\n",
       "      <td>previous</td>\n",
       "      <td>1</td>\n",
       "      <td>0.019109</td>\n",
       "    </tr>\n",
       "    <tr>\n",
       "      <th>4</th>\n",
       "      <td>emp.var.rate</td>\n",
       "      <td>1</td>\n",
       "      <td>0.022065</td>\n",
       "    </tr>\n",
       "  </tbody>\n",
       "</table>\n",
       "</div>"
      ],
      "text/plain": [
       "              0  0         0\n",
       "0           age  1  0.170810\n",
       "1      campaign  1  0.083967\n",
       "2         pdays  1  0.030959\n",
       "3      previous  1  0.019109\n",
       "4  emp.var.rate  1  0.022065"
      ]
     },
     "execution_count": 38,
     "metadata": {},
     "output_type": "execute_result"
    }
   ],
   "source": [
    "rfe_selected.head()"
   ]
  },
  {
   "cell_type": "code",
   "execution_count": 39,
   "metadata": {},
   "outputs": [],
   "source": [
    "rfe_selected.columns = [\"Feature Name\", \"Ranking\", \"Feature Importance\"]\n"
   ]
  },
  {
   "cell_type": "code",
   "execution_count": 40,
   "metadata": {},
   "outputs": [
    {
     "data": {
      "text/html": [
       "<div>\n",
       "<style scoped>\n",
       "    .dataframe tbody tr th:only-of-type {\n",
       "        vertical-align: middle;\n",
       "    }\n",
       "\n",
       "    .dataframe tbody tr th {\n",
       "        vertical-align: top;\n",
       "    }\n",
       "\n",
       "    .dataframe thead th {\n",
       "        text-align: right;\n",
       "    }\n",
       "</style>\n",
       "<table border=\"1\" class=\"dataframe\">\n",
       "  <thead>\n",
       "    <tr style=\"text-align: right;\">\n",
       "      <th></th>\n",
       "      <th>Feature Name</th>\n",
       "      <th>Ranking</th>\n",
       "      <th>Feature Importance</th>\n",
       "    </tr>\n",
       "  </thead>\n",
       "  <tbody>\n",
       "    <tr>\n",
       "      <th>0</th>\n",
       "      <td>age</td>\n",
       "      <td>1</td>\n",
       "      <td>0.170810</td>\n",
       "    </tr>\n",
       "    <tr>\n",
       "      <th>1</th>\n",
       "      <td>campaign</td>\n",
       "      <td>1</td>\n",
       "      <td>0.083967</td>\n",
       "    </tr>\n",
       "    <tr>\n",
       "      <th>2</th>\n",
       "      <td>pdays</td>\n",
       "      <td>1</td>\n",
       "      <td>0.030959</td>\n",
       "    </tr>\n",
       "    <tr>\n",
       "      <th>3</th>\n",
       "      <td>previous</td>\n",
       "      <td>1</td>\n",
       "      <td>0.019109</td>\n",
       "    </tr>\n",
       "    <tr>\n",
       "      <th>4</th>\n",
       "      <td>emp.var.rate</td>\n",
       "      <td>1</td>\n",
       "      <td>0.022065</td>\n",
       "    </tr>\n",
       "  </tbody>\n",
       "</table>\n",
       "</div>"
      ],
      "text/plain": [
       "   Feature Name  Ranking  Feature Importance\n",
       "0           age        1            0.170810\n",
       "1      campaign        1            0.083967\n",
       "2         pdays        1            0.030959\n",
       "3      previous        1            0.019109\n",
       "4  emp.var.rate        1            0.022065"
      ]
     },
     "execution_count": 40,
     "metadata": {},
     "output_type": "execute_result"
    }
   ],
   "source": [
    "rfe_selected.head()"
   ]
  },
  {
   "cell_type": "code",
   "execution_count": 41,
   "metadata": {},
   "outputs": [
    {
     "data": {
      "text/plain": [
       "0                               age\n",
       "1                          campaign\n",
       "2                             pdays\n",
       "3                          previous\n",
       "4                      emp.var.rate\n",
       "5                    cons.price.idx\n",
       "6                     cons.conf.idx\n",
       "7                         euribor3m\n",
       "8                       nr.employed\n",
       "9                   job_blue-collar\n",
       "12                   job_management\n",
       "13                      job_retired\n",
       "15                     job_services\n",
       "17                   job_technician\n",
       "20                  marital_married\n",
       "21                   marital_single\n",
       "24               education_basic.9y\n",
       "25            education_high.school\n",
       "27    education_professional.course\n",
       "28      education_university.degree\n",
       "30                  default_unknown\n",
       "33                      housing_yes\n",
       "35                         loan_yes\n",
       "36                contact_telephone\n",
       "46                  day_of_week_mon\n",
       "47                  day_of_week_thu\n",
       "48                  day_of_week_tue\n",
       "49                  day_of_week_wed\n",
       "50             poutcome_nonexistent\n",
       "51                 poutcome_success\n",
       "Name: Feature Name, dtype: object"
      ]
     },
     "execution_count": 41,
     "metadata": {},
     "output_type": "execute_result"
    }
   ],
   "source": [
    "# Display selected features with Ranking = 1    \n",
    "rfe_selected[(rfe_selected.Ranking == 1)]['Feature Name']"
   ]
  },
  {
   "cell_type": "code",
   "execution_count": null,
   "metadata": {},
   "outputs": [],
   "source": []
  }
 ],
 "metadata": {
  "anaconda-cloud": {},
  "kernelspec": {
   "display_name": "Python 3",
   "language": "python",
   "name": "python3"
  },
  "language_info": {
   "codemirror_mode": {
    "name": "ipython",
    "version": 3
   },
   "file_extension": ".py",
   "mimetype": "text/x-python",
   "name": "python",
   "nbconvert_exporter": "python",
   "pygments_lexer": "ipython3",
   "version": "3.7.6"
  }
 },
 "nbformat": 4,
 "nbformat_minor": 1
}
